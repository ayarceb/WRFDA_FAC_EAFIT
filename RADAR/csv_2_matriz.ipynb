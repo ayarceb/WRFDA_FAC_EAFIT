{
 "metadata": {
  "language_info": {
   "codemirror_mode": {
    "name": "ipython",
    "version": 3
   },
   "file_extension": ".py",
   "mimetype": "text/x-python",
   "name": "python",
   "nbconvert_exporter": "python",
   "pygments_lexer": "ipython3",
   "version": "3.8.6-final"
  },
  "orig_nbformat": 2,
  "kernelspec": {
   "name": "python3",
   "display_name": "Python 3",
   "language": "python"
  }
 },
 "nbformat": 4,
 "nbformat_minor": 2,
 "cells": [
  {
   "cell_type": "code",
   "execution_count": 1,
   "metadata": {},
   "outputs": [],
   "source": [
    "import pandas as pd\n",
    "import numpy as np\n",
    "import xarray as xr\n",
    "from __future__ import print_function, division\n",
    "from netCDF4 import Dataset\n",
    "from wrf import getvar, interpline, CoordPair, xy_to_ll, ll_to_xy, ALL_TIMES\n",
    "import matplotlib.pyplot as plt"
   ]
  },
  {
   "cell_type": "code",
   "execution_count": 2,
   "metadata": {},
   "outputs": [],
   "source": [
    "empty_arr = np.empty((13, 41, 660, 531))\n",
    "empty_arr[:] = -999\n"
   ]
  },
  {
   "cell_type": "code",
   "execution_count": 3,
   "metadata": {},
   "outputs": [],
   "source": [
    "ncfile = Dataset(\"/Users/thanatos/wrfmodel2/Build_WRF/WRF4.1.1/test/em_real/wrfout_d02_2019-01-07_00:00:00\")\n",
    "z = getvar(ncfile, \"z\")\n",
    "slp = getvar(ncfile, \"P\", timeidx=ALL_TIMES)"
   ]
  },
  {
   "cell_type": "code",
   "execution_count": 4,
   "metadata": {},
   "outputs": [],
   "source": [
    "slp['XLONG'],\n",
    "lon = slp['XLONG'],\n",
    "lat = slp['XLAT'],\n",
    "time = slp['XTIME'],\n",
    "reference_time = pd.Timestamp(\"2014-09-05\")\n",
    "  "
   ]
  },
  {
   "cell_type": "code",
   "execution_count": 5,
   "metadata": {},
   "outputs": [
    {
     "output_type": "execute_result",
     "data": {
      "text/plain": [
       "<xarray.DataArray 'P' (Time: 13, bottom_top: 41, south_north: 660, west_east: 531)>\n",
       "array([[[[ 1.36636719e+03,  1.43349219e+03,  1.57778125e+03, ...,\n",
       "           1.04693750e+03,  1.05682812e+03,  1.04754688e+03],\n",
       "         [ 1.52259375e+03,  1.48115625e+03,  1.50238281e+03, ...,\n",
       "           1.05541406e+03,  1.04603906e+03,  1.06046875e+03],\n",
       "         [ 1.55617188e+03,  1.57435938e+03,  1.57304688e+03, ...,\n",
       "           1.04744531e+03,  1.05326562e+03,  1.05157031e+03],\n",
       "         ...,\n",
       "         [ 1.39739062e+03,  1.39673438e+03,  1.39603125e+03, ...,\n",
       "           1.44338281e+03,  1.44391406e+03,  1.44449219e+03],\n",
       "         [ 1.39872656e+03,  1.39804688e+03,  1.39732031e+03, ...,\n",
       "           1.44536719e+03,  1.44594531e+03,  1.44651562e+03],\n",
       "         [ 1.40004688e+03,  1.39932031e+03,  1.39866406e+03, ...,\n",
       "           1.44735938e+03,  1.44798438e+03,  1.44850781e+03]],\n",
       "\n",
       "        [[ 1.34703125e+03,  1.42302344e+03,  1.56550000e+03, ...,\n",
       "           1.02896094e+03,  1.02862500e+03,  1.03382031e+03],\n",
       "         [ 1.50969531e+03,  1.46708594e+03,  1.48254688e+03, ...,\n",
       "           1.04010156e+03,  1.03017188e+03,  1.02732031e+03],\n",
       "         [ 1.54123438e+03,  1.56454688e+03,  1.55953125e+03, ...,\n",
       "           1.03214844e+03,  1.03992188e+03,  1.02889062e+03],\n",
       "...\n",
       "           6.49414062e-02,  6.64062500e-02,  3.65234375e-01],\n",
       "         [-4.83398438e-02,  4.98046875e-02,  7.32421875e-03, ...,\n",
       "           5.66406250e-02,  6.10351562e-02,  3.61328125e-02],\n",
       "         [-9.81445312e-02,  5.85937500e-02,  5.37109375e-02, ...,\n",
       "           1.01562500e-01, -2.18505859e+00,  1.19335938e+00]],\n",
       "\n",
       "        [[ 1.91894531e-01, -1.51367188e-02,  2.44140625e-03, ...,\n",
       "           3.41796875e-03,  9.27734375e-03, -2.34375000e-02],\n",
       "         [ 1.43066406e-01,  4.88281250e-03,  1.26953125e-02, ...,\n",
       "           1.95312500e-02, -6.34765625e-03,  6.34765625e-03],\n",
       "         [-1.95312500e-03, -8.78906250e-03, -4.88281250e-04, ...,\n",
       "          -1.70898438e-02, -4.88281250e-04,  8.30078125e-03],\n",
       "         ...,\n",
       "         [-5.21972656e-01,  1.46484375e-03,  2.00195312e-02, ...,\n",
       "          -1.46484375e-03,  0.00000000e+00,  5.85937500e-03],\n",
       "         [ 1.12304688e-02,  1.56250000e-02, -4.88281250e-03, ...,\n",
       "          -3.90625000e-03,  3.90625000e-03,  6.34765625e-03],\n",
       "         [ 6.93359375e-02,  1.80664062e-02, -2.02148438e-01, ...,\n",
       "          -1.13281250e-01, -2.51953125e-01,  3.70117188e-01]]]],\n",
       "      dtype=float32)\n",
       "Coordinates:\n",
       "    XLONG    (south_north, west_east) float32 -80.09 -80.07 ... -65.77 -65.74\n",
       "    XLAT     (south_north, west_east) float32 -4.9 -4.9 -4.9 ... 12.83 12.83\n",
       "    XTIME    (Time) float32 0.0 60.22 120.3 180.0 ... 540.0 600.2 660.1 720.0\n",
       "  * Time     (Time) datetime64[ns] 2019-01-07 ... 2019-01-07T12:00:00\n",
       "Dimensions without coordinates: bottom_top, south_north, west_east\n",
       "Attributes:\n",
       "    FieldType:    104\n",
       "    MemoryOrder:  XYZ\n",
       "    description:  perturbation pressure\n",
       "    units:        Pa\n",
       "    stagger:      \n",
       "    coordinates:  XLONG XLAT XTIME\n",
       "    projection:   Mercator(stand_lon=-73.0, moad_cen_lat=4.6999969482421875, ..."
      ],
      "text/html": "<div><svg style=\"position: absolute; width: 0; height: 0; overflow: hidden\">\n<defs>\n<symbol id=\"icon-database\" viewBox=\"0 0 32 32\">\n<path d=\"M16 0c-8.837 0-16 2.239-16 5v4c0 2.761 7.163 5 16 5s16-2.239 16-5v-4c0-2.761-7.163-5-16-5z\"></path>\n<path d=\"M16 17c-8.837 0-16-2.239-16-5v6c0 2.761 7.163 5 16 5s16-2.239 16-5v-6c0 2.761-7.163 5-16 5z\"></path>\n<path d=\"M16 26c-8.837 0-16-2.239-16-5v6c0 2.761 7.163 5 16 5s16-2.239 16-5v-6c0 2.761-7.163 5-16 5z\"></path>\n</symbol>\n<symbol id=\"icon-file-text2\" viewBox=\"0 0 32 32\">\n<path d=\"M28.681 7.159c-0.694-0.947-1.662-2.053-2.724-3.116s-2.169-2.030-3.116-2.724c-1.612-1.182-2.393-1.319-2.841-1.319h-15.5c-1.378 0-2.5 1.121-2.5 2.5v27c0 1.378 1.122 2.5 2.5 2.5h23c1.378 0 2.5-1.122 2.5-2.5v-19.5c0-0.448-0.137-1.23-1.319-2.841zM24.543 5.457c0.959 0.959 1.712 1.825 2.268 2.543h-4.811v-4.811c0.718 0.556 1.584 1.309 2.543 2.268zM28 29.5c0 0.271-0.229 0.5-0.5 0.5h-23c-0.271 0-0.5-0.229-0.5-0.5v-27c0-0.271 0.229-0.5 0.5-0.5 0 0 15.499-0 15.5 0v7c0 0.552 0.448 1 1 1h7v19.5z\"></path>\n<path d=\"M23 26h-14c-0.552 0-1-0.448-1-1s0.448-1 1-1h14c0.552 0 1 0.448 1 1s-0.448 1-1 1z\"></path>\n<path d=\"M23 22h-14c-0.552 0-1-0.448-1-1s0.448-1 1-1h14c0.552 0 1 0.448 1 1s-0.448 1-1 1z\"></path>\n<path d=\"M23 18h-14c-0.552 0-1-0.448-1-1s0.448-1 1-1h14c0.552 0 1 0.448 1 1s-0.448 1-1 1z\"></path>\n</symbol>\n</defs>\n</svg>\n<style>/* CSS stylesheet for displaying xarray objects in jupyterlab.\n *\n */\n\n:root {\n  --xr-font-color0: var(--jp-content-font-color0, rgba(0, 0, 0, 1));\n  --xr-font-color2: var(--jp-content-font-color2, rgba(0, 0, 0, 0.54));\n  --xr-font-color3: var(--jp-content-font-color3, rgba(0, 0, 0, 0.38));\n  --xr-border-color: var(--jp-border-color2, #e0e0e0);\n  --xr-disabled-color: var(--jp-layout-color3, #bdbdbd);\n  --xr-background-color: var(--jp-layout-color0, white);\n  --xr-background-color-row-even: var(--jp-layout-color1, white);\n  --xr-background-color-row-odd: var(--jp-layout-color2, #eeeeee);\n}\n\nhtml[theme=dark],\nbody.vscode-dark {\n  --xr-font-color0: rgba(255, 255, 255, 1);\n  --xr-font-color2: rgba(255, 255, 255, 0.54);\n  --xr-font-color3: rgba(255, 255, 255, 0.38);\n  --xr-border-color: #1F1F1F;\n  --xr-disabled-color: #515151;\n  --xr-background-color: #111111;\n  --xr-background-color-row-even: #111111;\n  --xr-background-color-row-odd: #313131;\n}\n\n.xr-wrap {\n  display: block;\n  min-width: 300px;\n  max-width: 700px;\n}\n\n.xr-text-repr-fallback {\n  /* fallback to plain text repr when CSS is not injected (untrusted notebook) */\n  display: none;\n}\n\n.xr-header {\n  padding-top: 6px;\n  padding-bottom: 6px;\n  margin-bottom: 4px;\n  border-bottom: solid 1px var(--xr-border-color);\n}\n\n.xr-header > div,\n.xr-header > ul {\n  display: inline;\n  margin-top: 0;\n  margin-bottom: 0;\n}\n\n.xr-obj-type,\n.xr-array-name {\n  margin-left: 2px;\n  margin-right: 10px;\n}\n\n.xr-obj-type {\n  color: var(--xr-font-color2);\n}\n\n.xr-sections {\n  padding-left: 0 !important;\n  display: grid;\n  grid-template-columns: 150px auto auto 1fr 20px 20px;\n}\n\n.xr-section-item {\n  display: contents;\n}\n\n.xr-section-item input {\n  display: none;\n}\n\n.xr-section-item input + label {\n  color: var(--xr-disabled-color);\n}\n\n.xr-section-item input:enabled + label {\n  cursor: pointer;\n  color: var(--xr-font-color2);\n}\n\n.xr-section-item input:enabled + label:hover {\n  color: var(--xr-font-color0);\n}\n\n.xr-section-summary {\n  grid-column: 1;\n  color: var(--xr-font-color2);\n  font-weight: 500;\n}\n\n.xr-section-summary > span {\n  display: inline-block;\n  padding-left: 0.5em;\n}\n\n.xr-section-summary-in:disabled + label {\n  color: var(--xr-font-color2);\n}\n\n.xr-section-summary-in + label:before {\n  display: inline-block;\n  content: '►';\n  font-size: 11px;\n  width: 15px;\n  text-align: center;\n}\n\n.xr-section-summary-in:disabled + label:before {\n  color: var(--xr-disabled-color);\n}\n\n.xr-section-summary-in:checked + label:before {\n  content: '▼';\n}\n\n.xr-section-summary-in:checked + label > span {\n  display: none;\n}\n\n.xr-section-summary,\n.xr-section-inline-details {\n  padding-top: 4px;\n  padding-bottom: 4px;\n}\n\n.xr-section-inline-details {\n  grid-column: 2 / -1;\n}\n\n.xr-section-details {\n  display: none;\n  grid-column: 1 / -1;\n  margin-bottom: 5px;\n}\n\n.xr-section-summary-in:checked ~ .xr-section-details {\n  display: contents;\n}\n\n.xr-array-wrap {\n  grid-column: 1 / -1;\n  display: grid;\n  grid-template-columns: 20px auto;\n}\n\n.xr-array-wrap > label {\n  grid-column: 1;\n  vertical-align: top;\n}\n\n.xr-preview {\n  color: var(--xr-font-color3);\n}\n\n.xr-array-preview,\n.xr-array-data {\n  padding: 0 5px !important;\n  grid-column: 2;\n}\n\n.xr-array-data,\n.xr-array-in:checked ~ .xr-array-preview {\n  display: none;\n}\n\n.xr-array-in:checked ~ .xr-array-data,\n.xr-array-preview {\n  display: inline-block;\n}\n\n.xr-dim-list {\n  display: inline-block !important;\n  list-style: none;\n  padding: 0 !important;\n  margin: 0;\n}\n\n.xr-dim-list li {\n  display: inline-block;\n  padding: 0;\n  margin: 0;\n}\n\n.xr-dim-list:before {\n  content: '(';\n}\n\n.xr-dim-list:after {\n  content: ')';\n}\n\n.xr-dim-list li:not(:last-child):after {\n  content: ',';\n  padding-right: 5px;\n}\n\n.xr-has-index {\n  font-weight: bold;\n}\n\n.xr-var-list,\n.xr-var-item {\n  display: contents;\n}\n\n.xr-var-item > div,\n.xr-var-item label,\n.xr-var-item > .xr-var-name span {\n  background-color: var(--xr-background-color-row-even);\n  margin-bottom: 0;\n}\n\n.xr-var-item > .xr-var-name:hover span {\n  padding-right: 5px;\n}\n\n.xr-var-list > li:nth-child(odd) > div,\n.xr-var-list > li:nth-child(odd) > label,\n.xr-var-list > li:nth-child(odd) > .xr-var-name span {\n  background-color: var(--xr-background-color-row-odd);\n}\n\n.xr-var-name {\n  grid-column: 1;\n}\n\n.xr-var-dims {\n  grid-column: 2;\n}\n\n.xr-var-dtype {\n  grid-column: 3;\n  text-align: right;\n  color: var(--xr-font-color2);\n}\n\n.xr-var-preview {\n  grid-column: 4;\n}\n\n.xr-var-name,\n.xr-var-dims,\n.xr-var-dtype,\n.xr-preview,\n.xr-attrs dt {\n  white-space: nowrap;\n  overflow: hidden;\n  text-overflow: ellipsis;\n  padding-right: 10px;\n}\n\n.xr-var-name:hover,\n.xr-var-dims:hover,\n.xr-var-dtype:hover,\n.xr-attrs dt:hover {\n  overflow: visible;\n  width: auto;\n  z-index: 1;\n}\n\n.xr-var-attrs,\n.xr-var-data {\n  display: none;\n  background-color: var(--xr-background-color) !important;\n  padding-bottom: 5px !important;\n}\n\n.xr-var-attrs-in:checked ~ .xr-var-attrs,\n.xr-var-data-in:checked ~ .xr-var-data {\n  display: block;\n}\n\n.xr-var-data > table {\n  float: right;\n}\n\n.xr-var-name span,\n.xr-var-data,\n.xr-attrs {\n  padding-left: 25px !important;\n}\n\n.xr-attrs,\n.xr-var-attrs,\n.xr-var-data {\n  grid-column: 1 / -1;\n}\n\ndl.xr-attrs {\n  padding: 0;\n  margin: 0;\n  display: grid;\n  grid-template-columns: 125px auto;\n}\n\n.xr-attrs dt,\n.xr-attrs dd {\n  padding: 0;\n  margin: 0;\n  float: left;\n  padding-right: 10px;\n  width: auto;\n}\n\n.xr-attrs dt {\n  font-weight: normal;\n  grid-column: 1;\n}\n\n.xr-attrs dt:hover span {\n  display: inline-block;\n  background: var(--xr-background-color);\n  padding-right: 10px;\n}\n\n.xr-attrs dd {\n  grid-column: 2;\n  white-space: pre-wrap;\n  word-break: break-all;\n}\n\n.xr-icon-database,\n.xr-icon-file-text2 {\n  display: inline-block;\n  vertical-align: middle;\n  width: 1em;\n  height: 1.5em !important;\n  stroke-width: 0;\n  stroke: currentColor;\n  fill: currentColor;\n}\n</style><pre class='xr-text-repr-fallback'>&lt;xarray.DataArray &#x27;P&#x27; (Time: 13, bottom_top: 41, south_north: 660, west_east: 531)&gt;\narray([[[[ 1.36636719e+03,  1.43349219e+03,  1.57778125e+03, ...,\n           1.04693750e+03,  1.05682812e+03,  1.04754688e+03],\n         [ 1.52259375e+03,  1.48115625e+03,  1.50238281e+03, ...,\n           1.05541406e+03,  1.04603906e+03,  1.06046875e+03],\n         [ 1.55617188e+03,  1.57435938e+03,  1.57304688e+03, ...,\n           1.04744531e+03,  1.05326562e+03,  1.05157031e+03],\n         ...,\n         [ 1.39739062e+03,  1.39673438e+03,  1.39603125e+03, ...,\n           1.44338281e+03,  1.44391406e+03,  1.44449219e+03],\n         [ 1.39872656e+03,  1.39804688e+03,  1.39732031e+03, ...,\n           1.44536719e+03,  1.44594531e+03,  1.44651562e+03],\n         [ 1.40004688e+03,  1.39932031e+03,  1.39866406e+03, ...,\n           1.44735938e+03,  1.44798438e+03,  1.44850781e+03]],\n\n        [[ 1.34703125e+03,  1.42302344e+03,  1.56550000e+03, ...,\n           1.02896094e+03,  1.02862500e+03,  1.03382031e+03],\n         [ 1.50969531e+03,  1.46708594e+03,  1.48254688e+03, ...,\n           1.04010156e+03,  1.03017188e+03,  1.02732031e+03],\n         [ 1.54123438e+03,  1.56454688e+03,  1.55953125e+03, ...,\n           1.03214844e+03,  1.03992188e+03,  1.02889062e+03],\n...\n           6.49414062e-02,  6.64062500e-02,  3.65234375e-01],\n         [-4.83398438e-02,  4.98046875e-02,  7.32421875e-03, ...,\n           5.66406250e-02,  6.10351562e-02,  3.61328125e-02],\n         [-9.81445312e-02,  5.85937500e-02,  5.37109375e-02, ...,\n           1.01562500e-01, -2.18505859e+00,  1.19335938e+00]],\n\n        [[ 1.91894531e-01, -1.51367188e-02,  2.44140625e-03, ...,\n           3.41796875e-03,  9.27734375e-03, -2.34375000e-02],\n         [ 1.43066406e-01,  4.88281250e-03,  1.26953125e-02, ...,\n           1.95312500e-02, -6.34765625e-03,  6.34765625e-03],\n         [-1.95312500e-03, -8.78906250e-03, -4.88281250e-04, ...,\n          -1.70898438e-02, -4.88281250e-04,  8.30078125e-03],\n         ...,\n         [-5.21972656e-01,  1.46484375e-03,  2.00195312e-02, ...,\n          -1.46484375e-03,  0.00000000e+00,  5.85937500e-03],\n         [ 1.12304688e-02,  1.56250000e-02, -4.88281250e-03, ...,\n          -3.90625000e-03,  3.90625000e-03,  6.34765625e-03],\n         [ 6.93359375e-02,  1.80664062e-02, -2.02148438e-01, ...,\n          -1.13281250e-01, -2.51953125e-01,  3.70117188e-01]]]],\n      dtype=float32)\nCoordinates:\n    XLONG    (south_north, west_east) float32 -80.09 -80.07 ... -65.77 -65.74\n    XLAT     (south_north, west_east) float32 -4.9 -4.9 -4.9 ... 12.83 12.83\n    XTIME    (Time) float32 0.0 60.22 120.3 180.0 ... 540.0 600.2 660.1 720.0\n  * Time     (Time) datetime64[ns] 2019-01-07 ... 2019-01-07T12:00:00\nDimensions without coordinates: bottom_top, south_north, west_east\nAttributes:\n    FieldType:    104\n    MemoryOrder:  XYZ\n    description:  perturbation pressure\n    units:        Pa\n    stagger:      \n    coordinates:  XLONG XLAT XTIME\n    projection:   Mercator(stand_lon=-73.0, moad_cen_lat=4.6999969482421875, ...</pre><div class='xr-wrap' hidden><div class='xr-header'><div class='xr-obj-type'>xarray.DataArray</div><div class='xr-array-name'>'P'</div><ul class='xr-dim-list'><li><span class='xr-has-index'>Time</span>: 13</li><li><span>bottom_top</span>: 41</li><li><span>south_north</span>: 660</li><li><span>west_east</span>: 531</li></ul></div><ul class='xr-sections'><li class='xr-section-item'><div class='xr-array-wrap'><input id='section-10add1c9-d657-402d-8815-afe2d57ffa19' class='xr-array-in' type='checkbox' checked><label for='section-10add1c9-d657-402d-8815-afe2d57ffa19' title='Show/hide data repr'><svg class='icon xr-icon-database'><use xlink:href='#icon-database'></use></svg></label><div class='xr-array-preview xr-preview'><span>1.366e+03 1.433e+03 1.578e+03 1.576e+03 ... -0.1133 -0.252 0.3701</span></div><div class='xr-array-data'><pre>array([[[[ 1.36636719e+03,  1.43349219e+03,  1.57778125e+03, ...,\n           1.04693750e+03,  1.05682812e+03,  1.04754688e+03],\n         [ 1.52259375e+03,  1.48115625e+03,  1.50238281e+03, ...,\n           1.05541406e+03,  1.04603906e+03,  1.06046875e+03],\n         [ 1.55617188e+03,  1.57435938e+03,  1.57304688e+03, ...,\n           1.04744531e+03,  1.05326562e+03,  1.05157031e+03],\n         ...,\n         [ 1.39739062e+03,  1.39673438e+03,  1.39603125e+03, ...,\n           1.44338281e+03,  1.44391406e+03,  1.44449219e+03],\n         [ 1.39872656e+03,  1.39804688e+03,  1.39732031e+03, ...,\n           1.44536719e+03,  1.44594531e+03,  1.44651562e+03],\n         [ 1.40004688e+03,  1.39932031e+03,  1.39866406e+03, ...,\n           1.44735938e+03,  1.44798438e+03,  1.44850781e+03]],\n\n        [[ 1.34703125e+03,  1.42302344e+03,  1.56550000e+03, ...,\n           1.02896094e+03,  1.02862500e+03,  1.03382031e+03],\n         [ 1.50969531e+03,  1.46708594e+03,  1.48254688e+03, ...,\n           1.04010156e+03,  1.03017188e+03,  1.02732031e+03],\n         [ 1.54123438e+03,  1.56454688e+03,  1.55953125e+03, ...,\n           1.03214844e+03,  1.03992188e+03,  1.02889062e+03],\n...\n           6.49414062e-02,  6.64062500e-02,  3.65234375e-01],\n         [-4.83398438e-02,  4.98046875e-02,  7.32421875e-03, ...,\n           5.66406250e-02,  6.10351562e-02,  3.61328125e-02],\n         [-9.81445312e-02,  5.85937500e-02,  5.37109375e-02, ...,\n           1.01562500e-01, -2.18505859e+00,  1.19335938e+00]],\n\n        [[ 1.91894531e-01, -1.51367188e-02,  2.44140625e-03, ...,\n           3.41796875e-03,  9.27734375e-03, -2.34375000e-02],\n         [ 1.43066406e-01,  4.88281250e-03,  1.26953125e-02, ...,\n           1.95312500e-02, -6.34765625e-03,  6.34765625e-03],\n         [-1.95312500e-03, -8.78906250e-03, -4.88281250e-04, ...,\n          -1.70898438e-02, -4.88281250e-04,  8.30078125e-03],\n         ...,\n         [-5.21972656e-01,  1.46484375e-03,  2.00195312e-02, ...,\n          -1.46484375e-03,  0.00000000e+00,  5.85937500e-03],\n         [ 1.12304688e-02,  1.56250000e-02, -4.88281250e-03, ...,\n          -3.90625000e-03,  3.90625000e-03,  6.34765625e-03],\n         [ 6.93359375e-02,  1.80664062e-02, -2.02148438e-01, ...,\n          -1.13281250e-01, -2.51953125e-01,  3.70117188e-01]]]],\n      dtype=float32)</pre></div></div></li><li class='xr-section-item'><input id='section-5d398677-8268-4bb0-a486-4acb06e62521' class='xr-section-summary-in' type='checkbox'  checked><label for='section-5d398677-8268-4bb0-a486-4acb06e62521' class='xr-section-summary' >Coordinates: <span>(4)</span></label><div class='xr-section-inline-details'></div><div class='xr-section-details'><ul class='xr-var-list'><li class='xr-var-item'><div class='xr-var-name'><span>XLONG</span></div><div class='xr-var-dims'>(south_north, west_east)</div><div class='xr-var-dtype'>float32</div><div class='xr-var-preview xr-preview'>-80.09 -80.07 ... -65.77 -65.74</div><input id='attrs-b43519f6-da00-458b-9858-0273295d32be' class='xr-var-attrs-in' type='checkbox' disabled><label for='attrs-b43519f6-da00-458b-9858-0273295d32be' title='Show/Hide attributes'><svg class='icon xr-icon-file-text2'><use xlink:href='#icon-file-text2'></use></svg></label><input id='data-3a7fd6f5-fd83-439c-84ef-c028119b5d2b' class='xr-var-data-in' type='checkbox'><label for='data-3a7fd6f5-fd83-439c-84ef-c028119b5d2b' title='Show/Hide data repr'><svg class='icon xr-icon-database'><use xlink:href='#icon-database'></use></svg></label><div class='xr-var-attrs'><dl class='xr-attrs'></dl></div><div class='xr-var-data'><pre>array([[-80.093636, -80.06656 , -80.03948 , ..., -65.79807 , -65.770996,\n        -65.74392 ],\n       [-80.093636, -80.06656 , -80.03948 , ..., -65.79807 , -65.770996,\n        -65.74392 ],\n       [-80.093636, -80.06656 , -80.03948 , ..., -65.79807 , -65.770996,\n        -65.74392 ],\n       ...,\n       [-80.093636, -80.06656 , -80.03948 , ..., -65.79807 , -65.770996,\n        -65.74392 ],\n       [-80.093636, -80.06656 , -80.03948 , ..., -65.79807 , -65.770996,\n        -65.74392 ],\n       [-80.093636, -80.06656 , -80.03948 , ..., -65.79807 , -65.770996,\n        -65.74392 ]], dtype=float32)</pre></div></li><li class='xr-var-item'><div class='xr-var-name'><span>XLAT</span></div><div class='xr-var-dims'>(south_north, west_east)</div><div class='xr-var-dtype'>float32</div><div class='xr-var-preview xr-preview'>-4.9 -4.9 -4.9 ... 12.83 12.83</div><input id='attrs-173bf9ef-8f78-42e7-b928-3d417f6203df' class='xr-var-attrs-in' type='checkbox' disabled><label for='attrs-173bf9ef-8f78-42e7-b928-3d417f6203df' title='Show/Hide attributes'><svg class='icon xr-icon-file-text2'><use xlink:href='#icon-file-text2'></use></svg></label><input id='data-fbaf1f06-711f-4037-ba13-1e38311ca32d' class='xr-var-data-in' type='checkbox'><label for='data-fbaf1f06-711f-4037-ba13-1e38311ca32d' title='Show/Hide data repr'><svg class='icon xr-icon-database'><use xlink:href='#icon-database'></use></svg></label><div class='xr-var-attrs'><dl class='xr-attrs'></dl></div><div class='xr-var-data'><pre>array([[-4.900337, -4.900337, -4.900337, ..., -4.900337, -4.900337,\n        -4.900337],\n       [-4.873352, -4.873352, -4.873352, ..., -4.873352, -4.873352,\n        -4.873352],\n       [-4.846382, -4.846382, -4.846382, ..., -4.846382, -4.846382,\n        -4.846382],\n       ...,\n       [12.774727, 12.774727, 12.774727, ..., 12.774727, 12.774727,\n        12.774727],\n       [12.801132, 12.801132, 12.801132, ..., 12.801132, 12.801132,\n        12.801132],\n       [12.82753 , 12.82753 , 12.82753 , ..., 12.82753 , 12.82753 ,\n        12.82753 ]], dtype=float32)</pre></div></li><li class='xr-var-item'><div class='xr-var-name'><span>XTIME</span></div><div class='xr-var-dims'>(Time)</div><div class='xr-var-dtype'>float32</div><div class='xr-var-preview xr-preview'>0.0 60.22 120.3 ... 660.1 720.0</div><input id='attrs-e120ea77-2f8d-461e-855c-db7c3db89fde' class='xr-var-attrs-in' type='checkbox' disabled><label for='attrs-e120ea77-2f8d-461e-855c-db7c3db89fde' title='Show/Hide attributes'><svg class='icon xr-icon-file-text2'><use xlink:href='#icon-file-text2'></use></svg></label><input id='data-97bcc877-0a8c-4d59-a2ea-467a6cb19201' class='xr-var-data-in' type='checkbox'><label for='data-97bcc877-0a8c-4d59-a2ea-467a6cb19201' title='Show/Hide data repr'><svg class='icon xr-icon-database'><use xlink:href='#icon-database'></use></svg></label><div class='xr-var-attrs'><dl class='xr-attrs'></dl></div><div class='xr-var-data'><pre>array([  0.      ,  60.218166, 120.30434 , 180.      , 240.05908 ,\n       300.037   , 360.      , 420.28516 , 480.12234 , 540.      ,\n       600.20386 , 660.09796 , 720.      ], dtype=float32)</pre></div></li><li class='xr-var-item'><div class='xr-var-name'><span class='xr-has-index'>Time</span></div><div class='xr-var-dims'>(Time)</div><div class='xr-var-dtype'>datetime64[ns]</div><div class='xr-var-preview xr-preview'>2019-01-07 ... 2019-01-07T12:00:00</div><input id='attrs-df4ed338-cc2d-46cc-a7bf-5e8e977649ae' class='xr-var-attrs-in' type='checkbox' disabled><label for='attrs-df4ed338-cc2d-46cc-a7bf-5e8e977649ae' title='Show/Hide attributes'><svg class='icon xr-icon-file-text2'><use xlink:href='#icon-file-text2'></use></svg></label><input id='data-5fe72b3a-d1b6-4186-aa39-c61058a01f3b' class='xr-var-data-in' type='checkbox'><label for='data-5fe72b3a-d1b6-4186-aa39-c61058a01f3b' title='Show/Hide data repr'><svg class='icon xr-icon-database'><use xlink:href='#icon-database'></use></svg></label><div class='xr-var-attrs'><dl class='xr-attrs'></dl></div><div class='xr-var-data'><pre>array([&#x27;2019-01-07T00:00:00.000000000&#x27;, &#x27;2019-01-07T01:00:13.000000000&#x27;,\n       &#x27;2019-01-07T02:00:18.000000000&#x27;, &#x27;2019-01-07T03:00:00.000000000&#x27;,\n       &#x27;2019-01-07T04:00:03.000000000&#x27;, &#x27;2019-01-07T05:00:02.000000000&#x27;,\n       &#x27;2019-01-07T06:00:00.000000000&#x27;, &#x27;2019-01-07T07:00:17.000000000&#x27;,\n       &#x27;2019-01-07T08:00:07.000000000&#x27;, &#x27;2019-01-07T09:00:00.000000000&#x27;,\n       &#x27;2019-01-07T10:00:12.000000000&#x27;, &#x27;2019-01-07T11:00:05.000000000&#x27;,\n       &#x27;2019-01-07T12:00:00.000000000&#x27;], dtype=&#x27;datetime64[ns]&#x27;)</pre></div></li></ul></div></li><li class='xr-section-item'><input id='section-f20205ae-8f18-4f90-b619-96b3e591af03' class='xr-section-summary-in' type='checkbox'  checked><label for='section-f20205ae-8f18-4f90-b619-96b3e591af03' class='xr-section-summary' >Attributes: <span>(7)</span></label><div class='xr-section-inline-details'></div><div class='xr-section-details'><dl class='xr-attrs'><dt><span>FieldType :</span></dt><dd>104</dd><dt><span>MemoryOrder :</span></dt><dd>XYZ</dd><dt><span>description :</span></dt><dd>perturbation pressure</dd><dt><span>units :</span></dt><dd>Pa</dd><dt><span>stagger :</span></dt><dd></dd><dt><span>coordinates :</span></dt><dd>XLONG XLAT XTIME</dd><dt><span>projection :</span></dt><dd>Mercator(stand_lon=-73.0, moad_cen_lat=4.6999969482421875, truelat1=4.699999809265137, truelat2=0.0, pole_lat=90.0, pole_lon=0.0)</dd></dl></div></li></ul></div></div>"
     },
     "metadata": {},
     "execution_count": 5
    }
   ],
   "source": [
    "slp"
   ]
  },
  {
   "cell_type": "code",
   "execution_count": 6,
   "metadata": {},
   "outputs": [
    {
     "output_type": "execute_result",
     "data": {
      "text/plain": [
       "('Time', 'bottom_top', 'south_north', 'west_east')"
      ]
     },
     "metadata": {},
     "execution_count": 6
    }
   ],
   "source": [
    "slp.dims"
   ]
  },
  {
   "cell_type": "code",
   "execution_count": 7,
   "metadata": {},
   "outputs": [
    {
     "output_type": "error",
     "ename": "ValueError",
     "evalue": "Could not convert tuple of form (dims, data[, attrs, encoding]): (['x', 'y'], (<xarray.DataArray 'XLONG' (south_north: 660, west_east: 531)>\narray([[-80.093636, -80.06656 , -80.03948 , ..., -65.79807 , -65.770996,\n        -65.74392 ],\n       [-80.093636, -80.06656 , -80.03948 , ..., -65.79807 , -65.770996,\n        -65.74392 ],\n       [-80.093636, -80.06656 , -80.03948 , ..., -65.79807 , -65.770996,\n        -65.74392 ],\n       ...,\n       [-80.093636, -80.06656 , -80.03948 , ..., -65.79807 , -65.770996,\n        -65.74392 ],\n       [-80.093636, -80.06656 , -80.03948 , ..., -65.79807 , -65.770996,\n        -65.74392 ],\n       [-80.093636, -80.06656 , -80.03948 , ..., -65.79807 , -65.770996,\n        -65.74392 ]], dtype=float32)\nCoordinates:\n    XLONG    (south_north, west_east) float32 -80.09 -80.07 ... -65.77 -65.74\n    XLAT     (south_north, west_east) float32 -4.9 -4.9 -4.9 ... 12.83 12.83\nDimensions without coordinates: south_north, west_east,)) to Variable.",
     "traceback": [
      "\u001b[0;31m---------------------------------------------------------------------------\u001b[0m",
      "\u001b[0;31mValueError\u001b[0m                                Traceback (most recent call last)",
      "\u001b[0;32m~/miniconda3/envs/pythonwrf/lib/python3.8/site-packages/xarray/core/variable.py\u001b[0m in \u001b[0;36mas_variable\u001b[0;34m(obj, name)\u001b[0m\n\u001b[1;32m    121\u001b[0m         \u001b[0;32mtry\u001b[0m\u001b[0;34m:\u001b[0m\u001b[0;34m\u001b[0m\u001b[0;34m\u001b[0m\u001b[0m\n\u001b[0;32m--> 122\u001b[0;31m             \u001b[0mobj\u001b[0m \u001b[0;34m=\u001b[0m \u001b[0mVariable\u001b[0m\u001b[0;34m(\u001b[0m\u001b[0;34m*\u001b[0m\u001b[0mobj\u001b[0m\u001b[0;34m)\u001b[0m\u001b[0;34m\u001b[0m\u001b[0;34m\u001b[0m\u001b[0m\n\u001b[0m\u001b[1;32m    123\u001b[0m         \u001b[0;32mexcept\u001b[0m \u001b[0;34m(\u001b[0m\u001b[0mTypeError\u001b[0m\u001b[0;34m,\u001b[0m \u001b[0mValueError\u001b[0m\u001b[0;34m)\u001b[0m \u001b[0;32mas\u001b[0m \u001b[0merror\u001b[0m\u001b[0;34m:\u001b[0m\u001b[0;34m\u001b[0m\u001b[0;34m\u001b[0m\u001b[0m\n",
      "\u001b[0;32m~/miniconda3/envs/pythonwrf/lib/python3.8/site-packages/xarray/core/variable.py\u001b[0m in \u001b[0;36m__init__\u001b[0;34m(self, dims, data, attrs, encoding, fastpath)\u001b[0m\n\u001b[1;32m    328\u001b[0m         \u001b[0mself\u001b[0m\u001b[0;34m.\u001b[0m\u001b[0m_data\u001b[0m \u001b[0;34m=\u001b[0m \u001b[0mas_compatible_data\u001b[0m\u001b[0;34m(\u001b[0m\u001b[0mdata\u001b[0m\u001b[0;34m,\u001b[0m \u001b[0mfastpath\u001b[0m\u001b[0;34m=\u001b[0m\u001b[0mfastpath\u001b[0m\u001b[0;34m)\u001b[0m\u001b[0;34m\u001b[0m\u001b[0;34m\u001b[0m\u001b[0m\n\u001b[0;32m--> 329\u001b[0;31m         \u001b[0mself\u001b[0m\u001b[0;34m.\u001b[0m\u001b[0m_dims\u001b[0m \u001b[0;34m=\u001b[0m \u001b[0mself\u001b[0m\u001b[0;34m.\u001b[0m\u001b[0m_parse_dimensions\u001b[0m\u001b[0;34m(\u001b[0m\u001b[0mdims\u001b[0m\u001b[0;34m)\u001b[0m\u001b[0;34m\u001b[0m\u001b[0;34m\u001b[0m\u001b[0m\n\u001b[0m\u001b[1;32m    330\u001b[0m         \u001b[0mself\u001b[0m\u001b[0;34m.\u001b[0m\u001b[0m_attrs\u001b[0m \u001b[0;34m=\u001b[0m \u001b[0;32mNone\u001b[0m\u001b[0;34m\u001b[0m\u001b[0;34m\u001b[0m\u001b[0m\n",
      "\u001b[0;32m~/miniconda3/envs/pythonwrf/lib/python3.8/site-packages/xarray/core/variable.py\u001b[0m in \u001b[0;36m_parse_dimensions\u001b[0;34m(self, dims)\u001b[0m\n\u001b[1;32m    560\u001b[0m         \u001b[0;32mif\u001b[0m \u001b[0mlen\u001b[0m\u001b[0;34m(\u001b[0m\u001b[0mdims\u001b[0m\u001b[0;34m)\u001b[0m \u001b[0;34m!=\u001b[0m \u001b[0mself\u001b[0m\u001b[0;34m.\u001b[0m\u001b[0mndim\u001b[0m\u001b[0;34m:\u001b[0m\u001b[0;34m\u001b[0m\u001b[0;34m\u001b[0m\u001b[0m\n\u001b[0;32m--> 561\u001b[0;31m             raise ValueError(\n\u001b[0m\u001b[1;32m    562\u001b[0m                 \u001b[0;34m\"dimensions %s must have the same length as the \"\u001b[0m\u001b[0;34m\u001b[0m\u001b[0;34m\u001b[0m\u001b[0m\n",
      "\u001b[0;31mValueError\u001b[0m: dimensions ('x', 'y') must have the same length as the number of data dimensions, ndim=0",
      "\nDuring handling of the above exception, another exception occurred:\n",
      "\u001b[0;31mValueError\u001b[0m                                Traceback (most recent call last)",
      "\u001b[0;32m<ipython-input-7-9f5d682f2b6c>\u001b[0m in \u001b[0;36m<module>\u001b[0;34m\u001b[0m\n\u001b[0;32m----> 1\u001b[0;31m radianza = xr.DataArray(\n\u001b[0m\u001b[1;32m      2\u001b[0m     \u001b[0mdata\u001b[0m\u001b[0;34m=\u001b[0m\u001b[0mempty_arr\u001b[0m\u001b[0;34m,\u001b[0m\u001b[0;34m\u001b[0m\u001b[0;34m\u001b[0m\u001b[0m\n\u001b[1;32m      3\u001b[0m     \u001b[0mdims\u001b[0m\u001b[0;34m=\u001b[0m\u001b[0;34m[\u001b[0m\u001b[0;34m'Time'\u001b[0m\u001b[0;34m,\u001b[0m \u001b[0;34m'bottom_top'\u001b[0m\u001b[0;34m,\u001b[0m \u001b[0;34m'south_north'\u001b[0m\u001b[0;34m,\u001b[0m \u001b[0;34m'west_east'\u001b[0m\u001b[0;34m]\u001b[0m\u001b[0;34m,\u001b[0m\u001b[0;34m\u001b[0m\u001b[0;34m\u001b[0m\u001b[0m\n\u001b[1;32m      4\u001b[0m     coords=dict(\n\u001b[1;32m      5\u001b[0m         \u001b[0mlon\u001b[0m\u001b[0;34m=\u001b[0m\u001b[0;34m(\u001b[0m\u001b[0;34m[\u001b[0m\u001b[0;34m\"x\"\u001b[0m\u001b[0;34m,\u001b[0m \u001b[0;34m\"y\"\u001b[0m\u001b[0;34m]\u001b[0m\u001b[0;34m,\u001b[0m \u001b[0mlon\u001b[0m\u001b[0;34m)\u001b[0m\u001b[0;34m,\u001b[0m\u001b[0;34m\u001b[0m\u001b[0;34m\u001b[0m\u001b[0m\n",
      "\u001b[0;32m~/miniconda3/envs/pythonwrf/lib/python3.8/site-packages/xarray/core/dataarray.py\u001b[0m in \u001b[0;36m__init__\u001b[0;34m(self, data, coords, dims, name, attrs, indexes, fastpath)\u001b[0m\n\u001b[1;32m    401\u001b[0m             \u001b[0mdata\u001b[0m \u001b[0;34m=\u001b[0m \u001b[0m_check_data_shape\u001b[0m\u001b[0;34m(\u001b[0m\u001b[0mdata\u001b[0m\u001b[0;34m,\u001b[0m \u001b[0mcoords\u001b[0m\u001b[0;34m,\u001b[0m \u001b[0mdims\u001b[0m\u001b[0;34m)\u001b[0m\u001b[0;34m\u001b[0m\u001b[0;34m\u001b[0m\u001b[0m\n\u001b[1;32m    402\u001b[0m             \u001b[0mdata\u001b[0m \u001b[0;34m=\u001b[0m \u001b[0mas_compatible_data\u001b[0m\u001b[0;34m(\u001b[0m\u001b[0mdata\u001b[0m\u001b[0;34m)\u001b[0m\u001b[0;34m\u001b[0m\u001b[0;34m\u001b[0m\u001b[0m\n\u001b[0;32m--> 403\u001b[0;31m             \u001b[0mcoords\u001b[0m\u001b[0;34m,\u001b[0m \u001b[0mdims\u001b[0m \u001b[0;34m=\u001b[0m \u001b[0m_infer_coords_and_dims\u001b[0m\u001b[0;34m(\u001b[0m\u001b[0mdata\u001b[0m\u001b[0;34m.\u001b[0m\u001b[0mshape\u001b[0m\u001b[0;34m,\u001b[0m \u001b[0mcoords\u001b[0m\u001b[0;34m,\u001b[0m \u001b[0mdims\u001b[0m\u001b[0;34m)\u001b[0m\u001b[0;34m\u001b[0m\u001b[0;34m\u001b[0m\u001b[0m\n\u001b[0m\u001b[1;32m    404\u001b[0m             \u001b[0mvariable\u001b[0m \u001b[0;34m=\u001b[0m \u001b[0mVariable\u001b[0m\u001b[0;34m(\u001b[0m\u001b[0mdims\u001b[0m\u001b[0;34m,\u001b[0m \u001b[0mdata\u001b[0m\u001b[0;34m,\u001b[0m \u001b[0mattrs\u001b[0m\u001b[0;34m,\u001b[0m \u001b[0mfastpath\u001b[0m\u001b[0;34m=\u001b[0m\u001b[0;32mTrue\u001b[0m\u001b[0;34m)\u001b[0m\u001b[0;34m\u001b[0m\u001b[0;34m\u001b[0m\u001b[0m\n\u001b[1;32m    405\u001b[0m             indexes = dict(\n",
      "\u001b[0;32m~/miniconda3/envs/pythonwrf/lib/python3.8/site-packages/xarray/core/dataarray.py\u001b[0m in \u001b[0;36m_infer_coords_and_dims\u001b[0;34m(shape, coords, dims)\u001b[0m\n\u001b[1;32m    132\u001b[0m     \u001b[0;32mif\u001b[0m \u001b[0mutils\u001b[0m\u001b[0;34m.\u001b[0m\u001b[0mis_dict_like\u001b[0m\u001b[0;34m(\u001b[0m\u001b[0mcoords\u001b[0m\u001b[0;34m)\u001b[0m\u001b[0;34m:\u001b[0m\u001b[0;34m\u001b[0m\u001b[0;34m\u001b[0m\u001b[0m\n\u001b[1;32m    133\u001b[0m         \u001b[0;32mfor\u001b[0m \u001b[0mk\u001b[0m\u001b[0;34m,\u001b[0m \u001b[0mv\u001b[0m \u001b[0;32min\u001b[0m \u001b[0mcoords\u001b[0m\u001b[0;34m.\u001b[0m\u001b[0mitems\u001b[0m\u001b[0;34m(\u001b[0m\u001b[0;34m)\u001b[0m\u001b[0;34m:\u001b[0m\u001b[0;34m\u001b[0m\u001b[0;34m\u001b[0m\u001b[0m\n\u001b[0;32m--> 134\u001b[0;31m             \u001b[0mnew_coords\u001b[0m\u001b[0;34m[\u001b[0m\u001b[0mk\u001b[0m\u001b[0;34m]\u001b[0m \u001b[0;34m=\u001b[0m \u001b[0mas_variable\u001b[0m\u001b[0;34m(\u001b[0m\u001b[0mv\u001b[0m\u001b[0;34m,\u001b[0m \u001b[0mname\u001b[0m\u001b[0;34m=\u001b[0m\u001b[0mk\u001b[0m\u001b[0;34m)\u001b[0m\u001b[0;34m\u001b[0m\u001b[0;34m\u001b[0m\u001b[0m\n\u001b[0m\u001b[1;32m    135\u001b[0m     \u001b[0;32melif\u001b[0m \u001b[0mcoords\u001b[0m \u001b[0;32mis\u001b[0m \u001b[0;32mnot\u001b[0m \u001b[0;32mNone\u001b[0m\u001b[0;34m:\u001b[0m\u001b[0;34m\u001b[0m\u001b[0;34m\u001b[0m\u001b[0m\n\u001b[1;32m    136\u001b[0m         \u001b[0;32mfor\u001b[0m \u001b[0mdim\u001b[0m\u001b[0;34m,\u001b[0m \u001b[0mcoord\u001b[0m \u001b[0;32min\u001b[0m \u001b[0mzip\u001b[0m\u001b[0;34m(\u001b[0m\u001b[0mdims\u001b[0m\u001b[0;34m,\u001b[0m \u001b[0mcoords\u001b[0m\u001b[0;34m)\u001b[0m\u001b[0;34m:\u001b[0m\u001b[0;34m\u001b[0m\u001b[0;34m\u001b[0m\u001b[0m\n",
      "\u001b[0;32m~/miniconda3/envs/pythonwrf/lib/python3.8/site-packages/xarray/core/variable.py\u001b[0m in \u001b[0;36mas_variable\u001b[0;34m(obj, name)\u001b[0m\n\u001b[1;32m    123\u001b[0m         \u001b[0;32mexcept\u001b[0m \u001b[0;34m(\u001b[0m\u001b[0mTypeError\u001b[0m\u001b[0;34m,\u001b[0m \u001b[0mValueError\u001b[0m\u001b[0;34m)\u001b[0m \u001b[0;32mas\u001b[0m \u001b[0merror\u001b[0m\u001b[0;34m:\u001b[0m\u001b[0;34m\u001b[0m\u001b[0;34m\u001b[0m\u001b[0m\n\u001b[1;32m    124\u001b[0m             \u001b[0;31m# use .format() instead of % because it handles tuples consistently\u001b[0m\u001b[0;34m\u001b[0m\u001b[0;34m\u001b[0m\u001b[0;34m\u001b[0m\u001b[0m\n\u001b[0;32m--> 125\u001b[0;31m             raise error.__class__(\n\u001b[0m\u001b[1;32m    126\u001b[0m                 \u001b[0;34m\"Could not convert tuple of form \"\u001b[0m\u001b[0;34m\u001b[0m\u001b[0;34m\u001b[0m\u001b[0m\n\u001b[1;32m    127\u001b[0m                 \u001b[0;34m\"(dims, data[, attrs, encoding]): \"\u001b[0m\u001b[0;34m\u001b[0m\u001b[0;34m\u001b[0m\u001b[0m\n",
      "\u001b[0;31mValueError\u001b[0m: Could not convert tuple of form (dims, data[, attrs, encoding]): (['x', 'y'], (<xarray.DataArray 'XLONG' (south_north: 660, west_east: 531)>\narray([[-80.093636, -80.06656 , -80.03948 , ..., -65.79807 , -65.770996,\n        -65.74392 ],\n       [-80.093636, -80.06656 , -80.03948 , ..., -65.79807 , -65.770996,\n        -65.74392 ],\n       [-80.093636, -80.06656 , -80.03948 , ..., -65.79807 , -65.770996,\n        -65.74392 ],\n       ...,\n       [-80.093636, -80.06656 , -80.03948 , ..., -65.79807 , -65.770996,\n        -65.74392 ],\n       [-80.093636, -80.06656 , -80.03948 , ..., -65.79807 , -65.770996,\n        -65.74392 ],\n       [-80.093636, -80.06656 , -80.03948 , ..., -65.79807 , -65.770996,\n        -65.74392 ]], dtype=float32)\nCoordinates:\n    XLONG    (south_north, west_east) float32 -80.09 -80.07 ... -65.77 -65.74\n    XLAT     (south_north, west_east) float32 -4.9 -4.9 -4.9 ... 12.83 12.83\nDimensions without coordinates: south_north, west_east,)) to Variable."
     ]
    }
   ],
   "source": [
    "radianza = xr.DataArray(\n",
    "    data=empty_arr,\n",
    "    dims=['Time', 'bottom_top', 'south_north', 'west_east'],\n",
    "    coords=dict(\n",
    "        lon=([\"x\", \"y\"], lon),\n",
    "        lat=([\"x\", \"y\"], lat),\n",
    "        level=range(0,41),\n",
    "        Time=time,\n",
    "        reference_time=reference_time,\n",
    "    ),\n",
    "    attrs=dict(\n",
    "        description=\"Radianza.\",\n",
    "        units=\"\",\n",
    "    ),\n",
    ")\n",
    "reflectividad = xr.DataArray(\n",
    "    data=empty_arr,\n",
    "    dims=[\"Time\",\"level\",\"x\", \"y\"],\n",
    "    coords=dict(\n",
    "        lon=([\"x\", \"y\"], lon),\n",
    "        lat=([\"x\", \"y\"], lat),\n",
    "        level=range(0,41),\n",
    "        Time=time,\n",
    "        reference_time=reference_time,\n",
    "    ),\n",
    "    attrs=dict(\n",
    "        description=\"Reflectividad.\",\n",
    "        units=\"\",\n",
    "    ),\n",
    ")"
   ]
  },
  {
   "cell_type": "code",
   "execution_count": null,
   "metadata": {},
   "outputs": [],
   "source": [
    "df = pd.read_csv('/Volumes/Seagate Backup Plus Drive/Datos WRF/EAFIT_scripts/RADAR/little R/radar.csv')\n"
   ]
  },
  {
   "cell_type": "code",
   "execution_count": null,
   "metadata": {},
   "outputs": [],
   "source": [
    "for index, row in df.iterrows():\n",
    "    \n",
    "    x_y = ll_to_xy(ncfile, row['Latitud'], row['Longitud'])\n",
    "    test = (row['Latitud'], row['Longitud'])\n",
    "    if x_y[1] >= 660 or x_y[1] >= 531:\n",
    "        continue\n",
    "    \n",
    "    array_alturas = z[:,x_y[1],x_y[0]].values\n",
    "    val_alt_cercana = min(array_alturas, key = lambda array_alturas:abs(array_alturas-row['altura']))\n",
    "\n",
    "    index_alt_cercana = np.where(array_alturas == val_alt_cercana)[0][0]\n",
    "    \n",
    "    radianza[0,index_alt_cercana,x_y[1],x_y[0]] = row['V_radial']\n",
    "    reflectividad[0,index_alt_cercana,x_y[1],x_y[0]] = row['Reflectividad']\n",
    "    "
   ]
  },
  {
   "cell_type": "code",
   "execution_count": null,
   "metadata": {},
   "outputs": [],
   "source": [
    "radianza[0,0,:,:].plot()\n"
   ]
  },
  {
   "cell_type": "code",
   "execution_count": null,
   "metadata": {},
   "outputs": [],
   "source": [
    "radianza[0,10,:,:].plot()\n"
   ]
  },
  {
   "cell_type": "code",
   "execution_count": null,
   "metadata": {},
   "outputs": [],
   "source": [
    "radianza[0,15,:,:].plot()\n"
   ]
  },
  {
   "cell_type": "code",
   "execution_count": null,
   "metadata": {},
   "outputs": [],
   "source": [
    "radianza[0,20,:,:].plot()\n"
   ]
  }
 ]
}